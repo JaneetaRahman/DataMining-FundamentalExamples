{
 "cells": [
  {
   "cell_type": "markdown",
   "id": "99465999",
   "metadata": {},
   "source": [
    "## Data files:\n",
    "* Part 1: Exploratory Data Analysis - https://raw.githubusercontent.com/vjavaly/Baruch-CIS-STA-3920/main/data/white_wine_quality.csv\n",
    "* Part 2: Data Preparation - https://raw.githubusercontent.com/vjavaly/Baruch-CIS-STA-3920/main/data/shoppers.csv"
   ]
  },
  {
   "cell_type": "code",
   "execution_count": 1,
   "id": "aabbb560-e6da-4095-b6fa-f125cae7e7fb",
   "metadata": {},
   "outputs": [
    {
     "name": "stdout",
     "output_type": "stream",
     "text": [
      "Run time: 10/20/23 13:59:58\n"
     ]
    }
   ],
   "source": [
    "from datetime import datetime\n",
    "print(f'Run time: {datetime.now().strftime(\"%D %T\")}')"
   ]
  },
  {
   "cell_type": "markdown",
   "id": "f29f7cc7",
   "metadata": {},
   "source": [
    "## Part 1: Exploratory Data Analysis"
   ]
  },
  {
   "cell_type": "markdown",
   "id": "ae4ff925",
   "metadata": {},
   "source": [
    "### Import libraries"
   ]
  },
  {
   "cell_type": "code",
   "execution_count": 2,
   "id": "ac51d56f",
   "metadata": {},
   "outputs": [],
   "source": [
    "import pandas as pd\n",
    "import numpy as np\n",
    "import matplotlib.pyplot as plt\n",
    "import seaborn as sns"
   ]
  },
  {
   "cell_type": "code",
   "execution_count": 3,
   "id": "6fcae04f",
   "metadata": {},
   "outputs": [],
   "source": [
    "# Read data file (white_wine_quality.csv) into a dataframe\n",
    "#  NOTE: field separator is ';'\n",
    "df = pd.read_csv('https://raw.githubusercontent.com/vjavaly/Baruch-CIS-STA-3920/main/data/white_wine_quality.csv', sep=';')"
   ]
  },
  {
   "cell_type": "markdown",
   "id": "3e0d2c1b",
   "metadata": {},
   "source": [
    "### Examine data"
   ]
  },
  {
   "cell_type": "code",
   "execution_count": 4,
   "id": "61aee3dd",
   "metadata": {},
   "outputs": [
    {
     "data": {
      "text/plain": [
       "(4898, 12)"
      ]
     },
     "execution_count": 4,
     "metadata": {},
     "output_type": "execute_result"
    }
   ],
   "source": [
    "# Display dataframe shape\n",
    "df.shape"
   ]
  },
  {
   "cell_type": "code",
   "execution_count": 5,
   "id": "34f7dc03",
   "metadata": {},
   "outputs": [
    {
     "data": {
      "text/html": [
       "<div>\n",
       "<style scoped>\n",
       "    .dataframe tbody tr th:only-of-type {\n",
       "        vertical-align: middle;\n",
       "    }\n",
       "\n",
       "    .dataframe tbody tr th {\n",
       "        vertical-align: top;\n",
       "    }\n",
       "\n",
       "    .dataframe thead th {\n",
       "        text-align: right;\n",
       "    }\n",
       "</style>\n",
       "<table border=\"1\" class=\"dataframe\">\n",
       "  <thead>\n",
       "    <tr style=\"text-align: right;\">\n",
       "      <th></th>\n",
       "      <th>fixed acidity</th>\n",
       "      <th>volatile acidity</th>\n",
       "      <th>citric acid</th>\n",
       "      <th>residual sugar</th>\n",
       "      <th>chlorides</th>\n",
       "      <th>free sulfur dioxide</th>\n",
       "      <th>total sulfur dioxide</th>\n",
       "      <th>density</th>\n",
       "      <th>pH</th>\n",
       "      <th>sulphates</th>\n",
       "      <th>alcohol</th>\n",
       "      <th>quality</th>\n",
       "    </tr>\n",
       "  </thead>\n",
       "  <tbody>\n",
       "    <tr>\n",
       "      <th>0</th>\n",
       "      <td>7.0</td>\n",
       "      <td>0.27</td>\n",
       "      <td>0.36</td>\n",
       "      <td>20.7</td>\n",
       "      <td>0.045</td>\n",
       "      <td>45.0</td>\n",
       "      <td>170.0</td>\n",
       "      <td>1.0010</td>\n",
       "      <td>3.00</td>\n",
       "      <td>0.45</td>\n",
       "      <td>8.8</td>\n",
       "      <td>6</td>\n",
       "    </tr>\n",
       "    <tr>\n",
       "      <th>1</th>\n",
       "      <td>6.3</td>\n",
       "      <td>0.30</td>\n",
       "      <td>0.34</td>\n",
       "      <td>1.6</td>\n",
       "      <td>0.049</td>\n",
       "      <td>14.0</td>\n",
       "      <td>132.0</td>\n",
       "      <td>0.9940</td>\n",
       "      <td>3.30</td>\n",
       "      <td>0.49</td>\n",
       "      <td>9.5</td>\n",
       "      <td>6</td>\n",
       "    </tr>\n",
       "    <tr>\n",
       "      <th>2</th>\n",
       "      <td>8.1</td>\n",
       "      <td>0.28</td>\n",
       "      <td>0.40</td>\n",
       "      <td>6.9</td>\n",
       "      <td>0.050</td>\n",
       "      <td>30.0</td>\n",
       "      <td>97.0</td>\n",
       "      <td>0.9951</td>\n",
       "      <td>3.26</td>\n",
       "      <td>0.44</td>\n",
       "      <td>10.1</td>\n",
       "      <td>6</td>\n",
       "    </tr>\n",
       "    <tr>\n",
       "      <th>3</th>\n",
       "      <td>7.2</td>\n",
       "      <td>0.23</td>\n",
       "      <td>0.32</td>\n",
       "      <td>8.5</td>\n",
       "      <td>0.058</td>\n",
       "      <td>47.0</td>\n",
       "      <td>186.0</td>\n",
       "      <td>0.9956</td>\n",
       "      <td>3.19</td>\n",
       "      <td>0.40</td>\n",
       "      <td>9.9</td>\n",
       "      <td>6</td>\n",
       "    </tr>\n",
       "    <tr>\n",
       "      <th>4</th>\n",
       "      <td>7.2</td>\n",
       "      <td>0.23</td>\n",
       "      <td>0.32</td>\n",
       "      <td>8.5</td>\n",
       "      <td>0.058</td>\n",
       "      <td>47.0</td>\n",
       "      <td>186.0</td>\n",
       "      <td>0.9956</td>\n",
       "      <td>3.19</td>\n",
       "      <td>0.40</td>\n",
       "      <td>9.9</td>\n",
       "      <td>6</td>\n",
       "    </tr>\n",
       "  </tbody>\n",
       "</table>\n",
       "</div>"
      ],
      "text/plain": [
       "   fixed acidity  volatile acidity  citric acid  residual sugar  chlorides  \\\n",
       "0            7.0              0.27         0.36            20.7      0.045   \n",
       "1            6.3              0.30         0.34             1.6      0.049   \n",
       "2            8.1              0.28         0.40             6.9      0.050   \n",
       "3            7.2              0.23         0.32             8.5      0.058   \n",
       "4            7.2              0.23         0.32             8.5      0.058   \n",
       "\n",
       "   free sulfur dioxide  total sulfur dioxide  density    pH  sulphates  \\\n",
       "0                 45.0                 170.0   1.0010  3.00       0.45   \n",
       "1                 14.0                 132.0   0.9940  3.30       0.49   \n",
       "2                 30.0                  97.0   0.9951  3.26       0.44   \n",
       "3                 47.0                 186.0   0.9956  3.19       0.40   \n",
       "4                 47.0                 186.0   0.9956  3.19       0.40   \n",
       "\n",
       "   alcohol  quality  \n",
       "0      8.8        6  \n",
       "1      9.5        6  \n",
       "2     10.1        6  \n",
       "3      9.9        6  \n",
       "4      9.9        6  "
      ]
     },
     "execution_count": 5,
     "metadata": {},
     "output_type": "execute_result"
    }
   ],
   "source": [
    "# Display first few rows\n",
    "df.head()"
   ]
  },
  {
   "cell_type": "markdown",
   "id": "32927de3",
   "metadata": {},
   "source": [
    "### Generate summary statistics on data"
   ]
  },
  {
   "cell_type": "code",
   "execution_count": 6,
   "id": "d7be9999",
   "metadata": {},
   "outputs": [
    {
     "data": {
      "text/html": [
       "<div>\n",
       "<style scoped>\n",
       "    .dataframe tbody tr th:only-of-type {\n",
       "        vertical-align: middle;\n",
       "    }\n",
       "\n",
       "    .dataframe tbody tr th {\n",
       "        vertical-align: top;\n",
       "    }\n",
       "\n",
       "    .dataframe thead th {\n",
       "        text-align: right;\n",
       "    }\n",
       "</style>\n",
       "<table border=\"1\" class=\"dataframe\">\n",
       "  <thead>\n",
       "    <tr style=\"text-align: right;\">\n",
       "      <th></th>\n",
       "      <th>fixed acidity</th>\n",
       "      <th>volatile acidity</th>\n",
       "      <th>citric acid</th>\n",
       "      <th>residual sugar</th>\n",
       "      <th>chlorides</th>\n",
       "      <th>free sulfur dioxide</th>\n",
       "      <th>total sulfur dioxide</th>\n",
       "      <th>density</th>\n",
       "      <th>pH</th>\n",
       "      <th>sulphates</th>\n",
       "      <th>alcohol</th>\n",
       "      <th>quality</th>\n",
       "    </tr>\n",
       "  </thead>\n",
       "  <tbody>\n",
       "    <tr>\n",
       "      <th>count</th>\n",
       "      <td>4898.000000</td>\n",
       "      <td>4898.000000</td>\n",
       "      <td>4898.000000</td>\n",
       "      <td>4898.000000</td>\n",
       "      <td>4898.000000</td>\n",
       "      <td>4898.000000</td>\n",
       "      <td>4898.000000</td>\n",
       "      <td>4898.000000</td>\n",
       "      <td>4898.000000</td>\n",
       "      <td>4898.000000</td>\n",
       "      <td>4898.000000</td>\n",
       "      <td>4898.000000</td>\n",
       "    </tr>\n",
       "    <tr>\n",
       "      <th>mean</th>\n",
       "      <td>6.854788</td>\n",
       "      <td>0.278241</td>\n",
       "      <td>0.334192</td>\n",
       "      <td>6.391415</td>\n",
       "      <td>0.045772</td>\n",
       "      <td>35.308085</td>\n",
       "      <td>138.360657</td>\n",
       "      <td>0.994027</td>\n",
       "      <td>3.188267</td>\n",
       "      <td>0.489847</td>\n",
       "      <td>10.514267</td>\n",
       "      <td>5.877909</td>\n",
       "    </tr>\n",
       "    <tr>\n",
       "      <th>std</th>\n",
       "      <td>0.843868</td>\n",
       "      <td>0.100795</td>\n",
       "      <td>0.121020</td>\n",
       "      <td>5.072058</td>\n",
       "      <td>0.021848</td>\n",
       "      <td>17.007137</td>\n",
       "      <td>42.498065</td>\n",
       "      <td>0.002991</td>\n",
       "      <td>0.151001</td>\n",
       "      <td>0.114126</td>\n",
       "      <td>1.230621</td>\n",
       "      <td>0.885639</td>\n",
       "    </tr>\n",
       "    <tr>\n",
       "      <th>min</th>\n",
       "      <td>3.800000</td>\n",
       "      <td>0.080000</td>\n",
       "      <td>0.000000</td>\n",
       "      <td>0.600000</td>\n",
       "      <td>0.009000</td>\n",
       "      <td>2.000000</td>\n",
       "      <td>9.000000</td>\n",
       "      <td>0.987110</td>\n",
       "      <td>2.720000</td>\n",
       "      <td>0.220000</td>\n",
       "      <td>8.000000</td>\n",
       "      <td>3.000000</td>\n",
       "    </tr>\n",
       "    <tr>\n",
       "      <th>25%</th>\n",
       "      <td>6.300000</td>\n",
       "      <td>0.210000</td>\n",
       "      <td>0.270000</td>\n",
       "      <td>1.700000</td>\n",
       "      <td>0.036000</td>\n",
       "      <td>23.000000</td>\n",
       "      <td>108.000000</td>\n",
       "      <td>0.991723</td>\n",
       "      <td>3.090000</td>\n",
       "      <td>0.410000</td>\n",
       "      <td>9.500000</td>\n",
       "      <td>5.000000</td>\n",
       "    </tr>\n",
       "    <tr>\n",
       "      <th>50%</th>\n",
       "      <td>6.800000</td>\n",
       "      <td>0.260000</td>\n",
       "      <td>0.320000</td>\n",
       "      <td>5.200000</td>\n",
       "      <td>0.043000</td>\n",
       "      <td>34.000000</td>\n",
       "      <td>134.000000</td>\n",
       "      <td>0.993740</td>\n",
       "      <td>3.180000</td>\n",
       "      <td>0.470000</td>\n",
       "      <td>10.400000</td>\n",
       "      <td>6.000000</td>\n",
       "    </tr>\n",
       "    <tr>\n",
       "      <th>75%</th>\n",
       "      <td>7.300000</td>\n",
       "      <td>0.320000</td>\n",
       "      <td>0.390000</td>\n",
       "      <td>9.900000</td>\n",
       "      <td>0.050000</td>\n",
       "      <td>46.000000</td>\n",
       "      <td>167.000000</td>\n",
       "      <td>0.996100</td>\n",
       "      <td>3.280000</td>\n",
       "      <td>0.550000</td>\n",
       "      <td>11.400000</td>\n",
       "      <td>6.000000</td>\n",
       "    </tr>\n",
       "    <tr>\n",
       "      <th>max</th>\n",
       "      <td>14.200000</td>\n",
       "      <td>1.100000</td>\n",
       "      <td>1.660000</td>\n",
       "      <td>65.800000</td>\n",
       "      <td>0.346000</td>\n",
       "      <td>289.000000</td>\n",
       "      <td>440.000000</td>\n",
       "      <td>1.038980</td>\n",
       "      <td>3.820000</td>\n",
       "      <td>1.080000</td>\n",
       "      <td>14.200000</td>\n",
       "      <td>9.000000</td>\n",
       "    </tr>\n",
       "  </tbody>\n",
       "</table>\n",
       "</div>"
      ],
      "text/plain": [
       "       fixed acidity  volatile acidity  citric acid  residual sugar  \\\n",
       "count    4898.000000       4898.000000  4898.000000     4898.000000   \n",
       "mean        6.854788          0.278241     0.334192        6.391415   \n",
       "std         0.843868          0.100795     0.121020        5.072058   \n",
       "min         3.800000          0.080000     0.000000        0.600000   \n",
       "25%         6.300000          0.210000     0.270000        1.700000   \n",
       "50%         6.800000          0.260000     0.320000        5.200000   \n",
       "75%         7.300000          0.320000     0.390000        9.900000   \n",
       "max        14.200000          1.100000     1.660000       65.800000   \n",
       "\n",
       "         chlorides  free sulfur dioxide  total sulfur dioxide      density  \\\n",
       "count  4898.000000          4898.000000           4898.000000  4898.000000   \n",
       "mean      0.045772            35.308085            138.360657     0.994027   \n",
       "std       0.021848            17.007137             42.498065     0.002991   \n",
       "min       0.009000             2.000000              9.000000     0.987110   \n",
       "25%       0.036000            23.000000            108.000000     0.991723   \n",
       "50%       0.043000            34.000000            134.000000     0.993740   \n",
       "75%       0.050000            46.000000            167.000000     0.996100   \n",
       "max       0.346000           289.000000            440.000000     1.038980   \n",
       "\n",
       "                pH    sulphates      alcohol      quality  \n",
       "count  4898.000000  4898.000000  4898.000000  4898.000000  \n",
       "mean      3.188267     0.489847    10.514267     5.877909  \n",
       "std       0.151001     0.114126     1.230621     0.885639  \n",
       "min       2.720000     0.220000     8.000000     3.000000  \n",
       "25%       3.090000     0.410000     9.500000     5.000000  \n",
       "50%       3.180000     0.470000    10.400000     6.000000  \n",
       "75%       3.280000     0.550000    11.400000     6.000000  \n",
       "max       3.820000     1.080000    14.200000     9.000000  "
      ]
     },
     "execution_count": 6,
     "metadata": {},
     "output_type": "execute_result"
    }
   ],
   "source": [
    "df.describe()"
   ]
  },
  {
   "cell_type": "markdown",
   "id": "732e84c3",
   "metadata": {},
   "source": [
    "### Generate insights on the dependent variable\n",
    "#### Dependent  variable is quality"
   ]
  },
  {
   "cell_type": "code",
   "execution_count": 7,
   "id": "220c1f1f",
   "metadata": {},
   "outputs": [
    {
     "name": "stdout",
     "output_type": "stream",
     "text": [
      "[6 5 7 8 4 3 9]\n"
     ]
    }
   ],
   "source": [
    "# Display the distinct classes\n",
    "distinct_classes = df[\"quality\"].unique()\n",
    "print(distinct_classes)"
   ]
  },
  {
   "cell_type": "code",
   "execution_count": 8,
   "id": "aaaa2c01",
   "metadata": {
    "scrolled": true
   },
   "outputs": [
    {
     "name": "stdout",
     "output_type": "stream",
     "text": [
      "quality\n",
      "6    2198\n",
      "5    1457\n",
      "7     880\n",
      "8     175\n",
      "4     163\n",
      "3      20\n",
      "9       5\n",
      "Name: count, dtype: int64\n"
     ]
    }
   ],
   "source": [
    "# Display the distribution counts for each class\n",
    "distribution_counts = df[\"quality\"].value_counts()\n",
    "print(distribution_counts)"
   ]
  },
  {
   "cell_type": "code",
   "execution_count": 9,
   "id": "4517de03",
   "metadata": {},
   "outputs": [
    {
     "data": {
      "image/png": "[encoded data removed]",
      "text/plain": [
       "<Figure size 640x480 with 1 Axes>"
      ]
     },
     "metadata": {},
     "output_type": "display_data"
    }
   ],
   "source": [
    "# Graph (i.e. bar graph) the distribution of the classes\n",
    "distribution_counts = df[\"quality\"].value_counts()\n",
    "plt.bar(distribution_counts.index, distribution_counts.values)\n",
    "plt.xlabel(\"Distribution\")\n",
    "plt.ylabel(\"Count\")\n",
    "plt.title(\"Distribution of the Classes\")\n",
    "plt.show()"
   ]
  },
  {
   "cell_type": "markdown",
   "id": "16f311b5",
   "metadata": {},
   "source": [
    "### Display the correlation matrix for all variables"
   ]
  },
  {
   "cell_type": "code",
   "execution_count": 10,
   "id": "77faf58e",
   "metadata": {},
   "outputs": [
    {
     "name": "stdout",
     "output_type": "stream",
     "text": [
      "                      fixed acidity  volatile acidity  citric acid  \\\n",
      "fixed acidity                  1.00             -0.02         0.29   \n",
      "volatile acidity              -0.02              1.00        -0.15   \n",
      "citric acid                    0.29             -0.15         1.00   \n",
      "residual sugar                 0.09              0.06         0.09   \n",
      "chlorides                      0.02              0.07         0.11   \n",
      "free sulfur dioxide           -0.05             -0.10         0.09   \n",
      "total sulfur dioxide           0.09              0.09         0.12   \n",
      "density                        0.27              0.03         0.15   \n",
      "pH                            -0.43             -0.03        -0.16   \n",
      "sulphates                     -0.02             -0.04         0.06   \n",
      "alcohol                       -0.12              0.07        -0.08   \n",
      "quality                       -0.11             -0.19        -0.01   \n",
      "\n",
      "                      residual sugar  chlorides  free sulfur dioxide  \\\n",
      "fixed acidity                   0.09       0.02                -0.05   \n",
      "volatile acidity                0.06       0.07                -0.10   \n",
      "citric acid                     0.09       0.11                 0.09   \n",
      "residual sugar                  1.00       0.09                 0.30   \n",
      "chlorides                       0.09       1.00                 0.10   \n",
      "free sulfur dioxide             0.30       0.10                 1.00   \n",
      "total sulfur dioxide            0.40       0.20                 0.62   \n",
      "density                         0.84       0.26                 0.29   \n",
      "pH                             -0.19      -0.09                -0.00   \n",
      "sulphates                      -0.03       0.02                 0.06   \n",
      "alcohol                        -0.45      -0.36                -0.25   \n",
      "quality                        -0.10      -0.21                 0.01   \n",
      "\n",
      "                      total sulfur dioxide  density    pH  sulphates  alcohol  \\\n",
      "fixed acidity                         0.09     0.27 -0.43      -0.02    -0.12   \n",
      "volatile acidity                      0.09     0.03 -0.03      -0.04     0.07   \n",
      "citric acid                           0.12     0.15 -0.16       0.06    -0.08   \n",
      "residual sugar                        0.40     0.84 -0.19      -0.03    -0.45   \n",
      "chlorides                             0.20     0.26 -0.09       0.02    -0.36   \n",
      "free sulfur dioxide                   0.62     0.29 -0.00       0.06    -0.25   \n",
      "total sulfur dioxide                  1.00     0.53  0.00       0.13    -0.45   \n",
      "density                               0.53     1.00 -0.09       0.07    -0.78   \n",
      "pH                                    0.00    -0.09  1.00       0.16     0.12   \n",
      "sulphates                             0.13     0.07  0.16       1.00    -0.02   \n",
      "alcohol                              -0.45    -0.78  0.12      -0.02     1.00   \n",
      "quality                              -0.17    -0.31  0.10       0.05     0.44   \n",
      "\n",
      "                      quality  \n",
      "fixed acidity           -0.11  \n",
      "volatile acidity        -0.19  \n",
      "citric acid             -0.01  \n",
      "residual sugar          -0.10  \n",
      "chlorides               -0.21  \n",
      "free sulfur dioxide      0.01  \n",
      "total sulfur dioxide    -0.17  \n",
      "density                 -0.31  \n",
      "pH                       0.10  \n",
      "sulphates                0.05  \n",
      "alcohol                  0.44  \n",
      "quality                  1.00  \n"
     ]
    }
   ],
   "source": [
    "correlation_matrix = df.corr(numeric_only=True).round(2)\n",
    "print(correlation_matrix)"
   ]
  },
  {
   "cell_type": "markdown",
   "id": "fd4b946e",
   "metadata": {},
   "source": [
    "## Part 2: Data Preparation"
   ]
  },
  {
   "cell_type": "markdown",
   "id": "e12f11d9-7302-4f67-9844-5ac1484a3fad",
   "metadata": {},
   "source": [
    "### NOTE: Final dataframe must be ready for model training (i.e. all numeric and scaled values)"
   ]
  },
  {
   "cell_type": "markdown",
   "id": "de33fa44",
   "metadata": {},
   "source": [
    "### Import libraries"
   ]
  },
  {
   "cell_type": "code",
   "execution_count": 11,
   "id": "027bcddb",
   "metadata": {},
   "outputs": [],
   "source": [
    "from sklearn.impute import SimpleImputer             # for handling missing data\n",
    "from sklearn.preprocessing import LabelEncoder       # for encoding label data\n",
    "from sklearn.preprocessing import StandardScaler     # for standardizing the data"
   ]
  },
  {
   "cell_type": "markdown",
   "id": "0260677e-bdf0-47e9-b04a-339afcc42b9b",
   "metadata": {},
   "source": [
    "### Load data\n",
    "* Independent variables: Region, Age, Income\n",
    "* Dependent variable: Online_Shopper"
   ]
  },
  {
   "cell_type": "code",
   "execution_count": 12,
   "id": "5d0874a1",
   "metadata": {},
   "outputs": [],
   "source": [
    "# Read data file (shoppers.csv) into a dataframe\n",
    "df2=pd.read_csv('https://raw.githubusercontent.com/vjavaly/Baruch-CIS-STA-3920/main/data/shoppers.csv')"
   ]
  },
  {
   "cell_type": "markdown",
   "id": "15c655cd",
   "metadata": {},
   "source": [
    "### Examine data"
   ]
  },
  {
   "cell_type": "code",
   "execution_count": 13,
   "id": "7f8875ef",
   "metadata": {},
   "outputs": [
    {
     "data": {
      "text/html": [
       "<div>\n",
       "<style scoped>\n",
       "    .dataframe tbody tr th:only-of-type {\n",
       "        vertical-align: middle;\n",
       "    }\n",
       "\n",
       "    .dataframe tbody tr th {\n",
       "        vertical-align: top;\n",
       "    }\n",
       "\n",
       "    .dataframe thead th {\n",
       "        text-align: right;\n",
       "    }\n",
       "</style>\n",
       "<table border=\"1\" class=\"dataframe\">\n",
       "  <thead>\n",
       "    <tr style=\"text-align: right;\">\n",
       "      <th></th>\n",
       "      <th>Region</th>\n",
       "      <th>Age</th>\n",
       "      <th>Income</th>\n",
       "      <th>Online_Shopper</th>\n",
       "    </tr>\n",
       "  </thead>\n",
       "  <tbody>\n",
       "    <tr>\n",
       "      <th>0</th>\n",
       "      <td>India</td>\n",
       "      <td>49.0</td>\n",
       "      <td>NaN</td>\n",
       "      <td>No</td>\n",
       "    </tr>\n",
       "    <tr>\n",
       "      <th>1</th>\n",
       "      <td>Brazil</td>\n",
       "      <td>32.0</td>\n",
       "      <td>57600.0</td>\n",
       "      <td>Yes</td>\n",
       "    </tr>\n",
       "    <tr>\n",
       "      <th>2</th>\n",
       "      <td>USA</td>\n",
       "      <td>NaN</td>\n",
       "      <td>NaN</td>\n",
       "      <td>No</td>\n",
       "    </tr>\n",
       "    <tr>\n",
       "      <th>3</th>\n",
       "      <td>Brazil</td>\n",
       "      <td>43.0</td>\n",
       "      <td>73200.0</td>\n",
       "      <td>No</td>\n",
       "    </tr>\n",
       "    <tr>\n",
       "      <th>4</th>\n",
       "      <td>USA</td>\n",
       "      <td>45.0</td>\n",
       "      <td>NaN</td>\n",
       "      <td>Yes</td>\n",
       "    </tr>\n",
       "  </tbody>\n",
       "</table>\n",
       "</div>"
      ],
      "text/plain": [
       "   Region   Age   Income Online_Shopper\n",
       "0   India  49.0      NaN             No\n",
       "1  Brazil  32.0  57600.0            Yes\n",
       "2     USA   NaN      NaN             No\n",
       "3  Brazil  43.0  73200.0             No\n",
       "4     USA  45.0      NaN            Yes"
      ]
     },
     "execution_count": 13,
     "metadata": {},
     "output_type": "execute_result"
    }
   ],
   "source": [
    "# Display dataframe\n",
    "df2.head()"
   ]
  },
  {
   "cell_type": "markdown",
   "id": "42590091",
   "metadata": {},
   "source": [
    "### Identify missing values"
   ]
  },
  {
   "cell_type": "code",
   "execution_count": 14,
   "id": "6a57ab06",
   "metadata": {
    "scrolled": true
   },
   "outputs": [
    {
     "data": {
      "text/plain": [
       "Region            0\n",
       "Age               3\n",
       "Income            4\n",
       "Online_Shopper    0\n",
       "dtype: int64"
      ]
     },
     "execution_count": 14,
     "metadata": {},
     "output_type": "execute_result"
    }
   ],
   "source": [
    "df2.isnull().sum()"
   ]
  },
  {
   "cell_type": "markdown",
   "id": "417a4545",
   "metadata": {},
   "source": [
    "### Impute missing values"
   ]
  },
  {
   "cell_type": "markdown",
   "id": "0cb8f5ce-55f3-42a5-9c0b-b5af36621e54",
   "metadata": {},
   "source": [
    "#### Use the SimpleImputer to replace ALL missing values"
   ]
  },
  {
   "cell_type": "code",
   "execution_count": 15,
   "id": "36a68d1f-46a5-4146-be01-fe56416f147a",
   "metadata": {},
   "outputs": [],
   "source": [
    "imp_mean = SimpleImputer(missing_values=np.nan, strategy = 'mean')\n",
    "df2[\"Age\"]= imp_mean.fit_transform(df2[['Age']])\n",
    "df2[\"Income\"]= imp_mean.fit_transform(df2[['Income']])"
   ]
  },
  {
   "cell_type": "markdown",
   "id": "df71514a-dcf0-4e44-ae22-08cdbd82f91e",
   "metadata": {},
   "source": [
    "### Recheck missing \n"
   ]
  },
  {
   "cell_type": "code",
   "execution_count": 16,
   "id": "f2bda1b7",
   "metadata": {},
   "outputs": [
    {
     "data": {
      "text/plain": [
       "Region            0\n",
       "Age               0\n",
       "Income            0\n",
       "Online_Shopper    0\n",
       "dtype: int64"
      ]
     },
     "execution_count": 16,
     "metadata": {},
     "output_type": "execute_result"
    }
   ],
   "source": [
    "df2.isnull().sum()"
   ]
  },
  {
   "cell_type": "markdown",
   "id": "10f417c3-a467-4f09-b479-79ef17642876",
   "metadata": {},
   "source": [
    "### Display updated dataframe"
   ]
  },
  {
   "cell_type": "code",
   "execution_count": 17,
   "id": "c4ddcfd4",
   "metadata": {},
   "outputs": [
    {
     "name": "stdout",
     "output_type": "stream",
     "text": [
      "   Region        Age   Income Online_Shopper\n",
      "0   India  49.000000  73000.0             No\n",
      "1  Brazil  32.000000  57600.0            Yes\n",
      "2     USA  45.285714  73000.0             No\n",
      "3  Brazil  43.000000  73200.0             No\n",
      "4     USA  45.000000  73000.0            Yes\n",
      "5   India  40.000000  69600.0            Yes\n",
      "6  Brazil  45.285714  62400.0             No\n",
      "7   India  53.000000  94800.0            Yes\n",
      "8     USA  55.000000  73000.0             No\n",
      "9   India  45.285714  80400.0            Yes\n"
     ]
    }
   ],
   "source": [
    "print(df2)"
   ]
  },
  {
   "cell_type": "markdown",
   "id": "0668572e",
   "metadata": {},
   "source": [
    "### Generate one-hot encodings for Region column"
   ]
  },
  {
   "cell_type": "code",
   "execution_count": 18,
   "id": "637c7241-f8ec-4896-9e72-48f19096eac9",
   "metadata": {
    "tags": []
   },
   "outputs": [],
   "source": [
    "df2 = pd.get_dummies(df2, columns=['Region'])"
   ]
  },
  {
   "cell_type": "markdown",
   "id": "d35f2031",
   "metadata": {},
   "source": [
    "### Encode labels"
   ]
  },
  {
   "cell_type": "code",
   "execution_count": 19,
   "id": "9cc1eb39",
   "metadata": {},
   "outputs": [],
   "source": [
    "# Encode Online Shopper column\n",
    "label_encoder = LabelEncoder()\n",
    "df2['Online_Shopper'] = label_encoder.fit_transform(df2['Online_Shopper'])"
   ]
  },
  {
   "cell_type": "markdown",
   "id": "939ba19c-9afe-4199-a4b0-59a45427257c",
   "metadata": {},
   "source": [
    "### Standardize independent variables"
   ]
  },
  {
   "cell_type": "code",
   "execution_count": 20,
   "id": "728a2d6a-6c14-43e1-bfb7-4d174b8c5243",
   "metadata": {},
   "outputs": [],
   "source": [
    "scaler = StandardScaler()\n",
    "df2[['Age', 'Income']] = scaler.fit_transform(df2[['Age', 'Income']])"
   ]
  },
  {
   "cell_type": "markdown",
   "id": "3306e85a",
   "metadata": {},
   "source": [
    "### Display entire final dataframe"
   ]
  },
  {
   "cell_type": "code",
   "execution_count": 21,
   "id": "d32a4dd0-940d-4ae0-83f2-46c23225bedd",
   "metadata": {},
   "outputs": [
    {
     "data": {
      "text/html": [
       "<div>\n",
       "<style scoped>\n",
       "    .dataframe tbody tr th:only-of-type {\n",
       "        vertical-align: middle;\n",
       "    }\n",
       "\n",
       "    .dataframe tbody tr th {\n",
       "        vertical-align: top;\n",
       "    }\n",
       "\n",
       "    .dataframe thead th {\n",
       "        text-align: right;\n",
       "    }\n",
       "</style>\n",
       "<table border=\"1\" class=\"dataframe\">\n",
       "  <thead>\n",
       "    <tr style=\"text-align: right;\">\n",
       "      <th></th>\n",
       "      <th>Age</th>\n",
       "      <th>Income</th>\n",
       "      <th>Online_Shopper</th>\n",
       "      <th>Region_Brazil</th>\n",
       "      <th>Region_India</th>\n",
       "      <th>Region_USA</th>\n",
       "    </tr>\n",
       "  </thead>\n",
       "  <tbody>\n",
       "    <tr>\n",
       "      <th>0</th>\n",
       "      <td>0.604586</td>\n",
       "      <td>0.000000</td>\n",
       "      <td>0</td>\n",
       "      <td>False</td>\n",
       "      <td>True</td>\n",
       "      <td>False</td>\n",
       "    </tr>\n",
       "    <tr>\n",
       "      <th>1</th>\n",
       "      <td>-2.162557</td>\n",
       "      <td>-1.631371</td>\n",
       "      <td>1</td>\n",
       "      <td>True</td>\n",
       "      <td>False</td>\n",
       "      <td>False</td>\n",
       "    </tr>\n",
       "    <tr>\n",
       "      <th>2</th>\n",
       "      <td>0.000000</td>\n",
       "      <td>0.000000</td>\n",
       "      <td>0</td>\n",
       "      <td>False</td>\n",
       "      <td>False</td>\n",
       "      <td>True</td>\n",
       "    </tr>\n",
       "    <tr>\n",
       "      <th>3</th>\n",
       "      <td>-0.372053</td>\n",
       "      <td>0.021187</td>\n",
       "      <td>0</td>\n",
       "      <td>True</td>\n",
       "      <td>False</td>\n",
       "      <td>False</td>\n",
       "    </tr>\n",
       "    <tr>\n",
       "      <th>4</th>\n",
       "      <td>-0.046507</td>\n",
       "      <td>0.000000</td>\n",
       "      <td>1</td>\n",
       "      <td>False</td>\n",
       "      <td>False</td>\n",
       "      <td>True</td>\n",
       "    </tr>\n",
       "    <tr>\n",
       "      <th>5</th>\n",
       "      <td>-0.860372</td>\n",
       "      <td>-0.360173</td>\n",
       "      <td>1</td>\n",
       "      <td>False</td>\n",
       "      <td>True</td>\n",
       "      <td>False</td>\n",
       "    </tr>\n",
       "    <tr>\n",
       "      <th>6</th>\n",
       "      <td>0.000000</td>\n",
       "      <td>-1.122891</td>\n",
       "      <td>0</td>\n",
       "      <td>True</td>\n",
       "      <td>False</td>\n",
       "      <td>False</td>\n",
       "    </tr>\n",
       "    <tr>\n",
       "      <th>7</th>\n",
       "      <td>1.255678</td>\n",
       "      <td>2.309343</td>\n",
       "      <td>1</td>\n",
       "      <td>False</td>\n",
       "      <td>True</td>\n",
       "      <td>False</td>\n",
       "    </tr>\n",
       "    <tr>\n",
       "      <th>8</th>\n",
       "      <td>1.581224</td>\n",
       "      <td>0.000000</td>\n",
       "      <td>0</td>\n",
       "      <td>False</td>\n",
       "      <td>False</td>\n",
       "      <td>True</td>\n",
       "    </tr>\n",
       "    <tr>\n",
       "      <th>9</th>\n",
       "      <td>0.000000</td>\n",
       "      <td>0.783905</td>\n",
       "      <td>1</td>\n",
       "      <td>False</td>\n",
       "      <td>True</td>\n",
       "      <td>False</td>\n",
       "    </tr>\n",
       "  </tbody>\n",
       "</table>\n",
       "</div>"
      ],
      "text/plain": [
       "        Age    Income  Online_Shopper  Region_Brazil  Region_India  Region_USA\n",
       "0  0.604586  0.000000               0          False          True       False\n",
       "1 -2.162557 -1.631371               1           True         False       False\n",
       "2  0.000000  0.000000               0          False         False        True\n",
       "3 -0.372053  0.021187               0           True         False       False\n",
       "4 -0.046507  0.000000               1          False         False        True\n",
       "5 -0.860372 -0.360173               1          False          True       False\n",
       "6  0.000000 -1.122891               0           True         False       False\n",
       "7  1.255678  2.309343               1          False          True       False\n",
       "8  1.581224  0.000000               0          False         False        True\n",
       "9  0.000000  0.783905               1          False          True       False"
      ]
     },
     "execution_count": 21,
     "metadata": {},
     "output_type": "execute_result"
    }
   ],
   "source": [
    "df2"
   ]
  },
  {
   "cell_type": "code",
   "execution_count": null,
   "id": "3477c3ca",
   "metadata": {},
   "outputs": [],
   "source": []
  }
 ],
 "metadata": {
  "kernelspec": {
   "display_name": "Python 3 (ipykernel)",
   "language": "python",
   "name": "python3"
  },
  "language_info": {
   "codemirror_mode": {
    "name": "ipython",
    "version": 3
   },
   "file_extension": ".py",
   "mimetype": "text/x-python",
   "name": "python",
   "nbconvert_exporter": "python",
   "pygments_lexer": "ipython3",
   "version": "3.11.5"
  }
 },
 "nbformat": 4,
 "nbformat_minor": 5
}
