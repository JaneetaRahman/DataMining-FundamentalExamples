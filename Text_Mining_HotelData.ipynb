{
 "cells": [
  {
   "cell_type": "markdown",
   "id": "129a568e-e7c5-4a0d-ad23-f5bbcc36b55a",
   "metadata": {},
   "source": [
    "## Data file:\n",
    "* https://raw.githubusercontent.com/vjavaly/Baruch-CIS-STA-3920/main/data/Seattle_hotels.csv"
   ]
  },
  {
   "cell_type": "code",
   "execution_count": 1,
   "id": "d9f32f4a-632e-4536-a834-0925b4fb412c",
   "metadata": {},
   "outputs": [
    {
     "name": "stdout",
     "output_type": "stream",
     "text": [
      "Run time: 03/31/24 00:09:20\n"
     ]
    }
   ],
   "source": [
    "from datetime import datetime\n",
    "print(f'Run time: {datetime.now().strftime(\"%D %T\")}')"
   ]
  },
  {
   "cell_type": "markdown",
   "id": "ba1b07f9",
   "metadata": {},
   "source": [
    "### Import libraries"
   ]
  },
  {
   "cell_type": "code",
   "execution_count": 2,
   "id": "2ac5b562",
   "metadata": {},
   "outputs": [
    {
     "name": "stderr",
     "output_type": "stream",
     "text": [
      "[nltk_data] Downloading package stopwords to\n",
      "[nltk_data]     C:\\Users\\raisa\\AppData\\Roaming\\nltk_data...\n",
      "[nltk_data]   Package stopwords is already up-to-date!\n",
      "[nltk_data] Downloading package wordnet to\n",
      "[nltk_data]     C:\\Users\\raisa\\AppData\\Roaming\\nltk_data...\n",
      "[nltk_data]   Package wordnet is already up-to-date!\n",
      "[nltk_data] Downloading package punkt to\n",
      "[nltk_data]     C:\\Users\\raisa\\AppData\\Roaming\\nltk_data...\n",
      "[nltk_data]   Package punkt is already up-to-date!\n"
     ]
    },
    {
     "data": {
      "text/plain": [
       "True"
      ]
     },
     "execution_count": 2,
     "metadata": {},
     "output_type": "execute_result"
    }
   ],
   "source": [
    "import pandas as pd\n",
    "import re\n",
    "import string\n",
    "import nltk\n",
    "from sklearn.feature_extraction.text import TfidfVectorizer\n",
    "from sklearn.metrics.pairwise import cosine_similarity\n",
    "\n",
    "from nltk.stem import WordNetLemmatizer\n",
    "from nltk.corpus import stopwords\n",
    "import nltk\n",
    "nltk.download('stopwords')\n",
    "\n",
    "nltk.download('wordnet')\n",
    "nltk.download('punkt')"
   ]
  },
  {
   "cell_type": "markdown",
   "id": "3252fbd0",
   "metadata": {},
   "source": [
    "### Load data"
   ]
  },
  {
   "cell_type": "code",
   "execution_count": 3,
   "id": "dd4d3fc9",
   "metadata": {},
   "outputs": [
    {
     "data": {
      "text/plain": [
       "(152, 3)"
      ]
     },
     "execution_count": 3,
     "metadata": {},
     "output_type": "execute_result"
    }
   ],
   "source": [
    "df=pd.read_csv(\"https://raw.githubusercontent.com/vjavaly/Baruch-CIS-STA-3920/main/data/Seattle_hotels.csv\")\n",
    "df.shape"
   ]
  },
  {
   "cell_type": "markdown",
   "id": "3458cc61",
   "metadata": {},
   "source": [
    "### Examine data"
   ]
  },
  {
   "cell_type": "code",
   "execution_count": 4,
   "id": "5bb053c0-264e-43dc-aec7-c92b8bf46022",
   "metadata": {},
   "outputs": [],
   "source": [
    "#sets the maximum column width to unlimited\n",
    "pd.set_option('max_colwidth', None)"
   ]
  },
  {
   "cell_type": "code",
   "execution_count": 5,
   "id": "ff76b5ab",
   "metadata": {
    "scrolled": true
   },
   "outputs": [
    {
     "data": {
      "text/html": [
       "<div>\n",
       "<style scoped>\n",
       "    .dataframe tbody tr th:only-of-type {\n",
       "        vertical-align: middle;\n",
       "    }\n",
       "\n",
       "    .dataframe tbody tr th {\n",
       "        vertical-align: top;\n",
       "    }\n",
       "\n",
       "    .dataframe thead th {\n",
       "        text-align: right;\n",
       "    }\n",
       "</style>\n",
       "<table border=\"1\" class=\"dataframe\">\n",
       "  <thead>\n",
       "    <tr style=\"text-align: right;\">\n",
       "      <th></th>\n",
       "      <th>name</th>\n",
       "      <th>address</th>\n",
       "      <th>desc</th>\n",
       "    </tr>\n",
       "  </thead>\n",
       "  <tbody>\n",
       "    <tr>\n",
       "      <th>0</th>\n",
       "      <td>Hilton Garden Seattle Downtown</td>\n",
       "      <td>1821 Boren Avenue, Seattle Washington 98101 USA</td>\n",
       "      <td>Located on the southern tip of Lake Union, the Hilton Garden Inn Seattle Downtown hotel is perfectly located for business and leisure. \\nThe neighborhood is home to numerous major international companies including Amazon, Google and the Bill &amp; Melinda Gates Foundation. A wealth of eclectic restaurants and bars make this area of Seattle one of the most sought out by locals and visitors. Our proximity to Lake Union allows visitors to take in some of the Pacific Northwest's majestic scenery and enjoy outdoor activities like kayaking and sailing. over 2,000 sq. ft. of versatile space and a complimentary business center. State-of-the-art A/V technology and our helpful staff will guarantee your conference, cocktail reception or wedding is a success. Refresh in the sparkling saltwater pool, or energize with the latest equipment in the 24-hour fitness center. Tastefully decorated and flooded with natural light, our guest rooms and suites offer everything you need to relax and stay productive. Unwind in the bar, and enjoy American cuisine for breakfast, lunch and dinner in our restaurant. The 24-hour Pavilion Pantry? stocks a variety of snacks, drinks and sundries.</td>\n",
       "    </tr>\n",
       "    <tr>\n",
       "      <th>1</th>\n",
       "      <td>Sheraton Grand Seattle</td>\n",
       "      <td>1400 6th Avenue, Seattle, Washington 98101 USA</td>\n",
       "      <td>Located in the city's vibrant core, the Sheraton Grand Seattle provides a gateway to the diverse sights and sounds of the Pacific Northwest. Step out of our front doors to find gourmet dining and bars, world-class shopping, exciting entertainment, and iconic local attractions including the Pike Place Market, Space Needle and Chihuly Garden &amp; Glass Museum. As one of only seven Sheraton hotels in North America to earn the esteemed Grand designation, guests can book confidently knowing they?re receiving the highest benchmark on product and service offerings available. Experience our recently completed multimillion-dollar transformation featuring all new guest rooms, an expanded Sheraton Club Lounge, and modern meeting &amp; event spaces. Gather in our stylish new lobby and enjoy our private art collection featuring local artists while enjoying your favorite beverage from Starbucks. The Sheraton Grand features several dining options including Loulay Kitchen &amp; Bar by James Beard award winning chef Thierry Rautureau.</td>\n",
       "    </tr>\n",
       "    <tr>\n",
       "      <th>2</th>\n",
       "      <td>Crowne Plaza Seattle Downtown</td>\n",
       "      <td>1113 6th Ave, Seattle, WA 98101</td>\n",
       "      <td>Located in the heart of downtown Seattle, the award-winning \\nCrowne Plaza Hotel Seattle ? Downtown offers an exceptional blend of service, style and comfort. You?ll notice Cool, Comfortable and Unconventional touches that set us apart as soon as you step inside. Marvel at stunning views of the city lights while relaxing in our new Sleep Advantage? Beds. Enjoy complimentary wireless Internet throughout the hotel and amenities to help you relax like our Temple Spa? Sleep Tight Amenity kits featuring lavender spray and lotions to help you rejuvenate and unwind. Enjoy an invigorating workout at our 24-hour fitness center, get dining suggestions from our expert concierge or savor sumptuous cuisine at our Regatta Bar &amp; Grille restaurant where you can enjoy Happy Hour in our lounge daily from 4pm - 7pm and monthly drink specials. Come and experience all that The Emerald City has to offer with us!</td>\n",
       "    </tr>\n",
       "    <tr>\n",
       "      <th>3</th>\n",
       "      <td>Kimpton Hotel Monaco Seattle</td>\n",
       "      <td>1101 4th Ave, Seattle, WA98101</td>\n",
       "      <td>What?s near our hotel downtown Seattle location? The better \\nquestion might be what?s not nearby. In addition to being one of the hotels near Pike Place Market, here?s just a small sampling of the rest. Columbia Center, whose Sky View Observatory on the 73rd floor is the tallest public viewing area west of the Mississippi Historic 5th Avenue Theatre, home to musical productions Seattle Central Library, an architectural marvel. Within half a mile: The must-see Pike Place Market, which houses the original Starbucks Pioneer Square, Seattle?s original downtown. Seattle Art Museum. Fantastic shopping, including the flagship Nordstrom, Nordstrom Rack, Macy?s, Columbia Sportswear, Louis Vuitton, Arcteryx, and oodles of independent boutiques. The Great Wheel. Washington State Convention Center. Within about a mile: The iconic Space Needle.  Bell Street Pier Cruise Terminal at Pier 66. Sports stadiums CenturyLink Field and Safeco Field, home to the Seattle Seahawks, Seattle Mariners, and Seattle Sounders.</td>\n",
       "    </tr>\n",
       "    <tr>\n",
       "      <th>4</th>\n",
       "      <td>The Westin Seattle</td>\n",
       "      <td>1900 5th Avenue,�Seattle,�Washington�98101�USA</td>\n",
       "      <td>Situated amid incredible shopping and iconic attractions, The Westin Seattle is a contemporary haven in a prime location. Relax and recharge in stylish accommodations, modern comforts, signature Heavenly� amenities and gorgeous views of the Seattle skyline, Puget Sound, Lake Union and Cascade mountain range. Experience our newly renovated lobby including 1900 FIFTH, our new lobby bar offering a carefully curated wine and crafted cocktail experience. Explore a spectacular collection of celebrated attractions, including the Space Needle, CenturyLink Field, The Washington State Convention Center, Pike Place Market and the Seattle Waterfront. Host unforgettable meetings and social engagements in more than 70,000 square feet of event space, enhanced by expert planning and custom catering. Refresh in our pool or energize your mind and body in our sleek WestinWORKOUT� Fitness Studio. Designed to reflect the style and substance of the Emerald City, our hotel is a welcoming haven near the best of downtown Seattle.</td>\n",
       "    </tr>\n",
       "  </tbody>\n",
       "</table>\n",
       "</div>"
      ],
      "text/plain": [
       "                             name  \\\n",
       "0  Hilton Garden Seattle Downtown   \n",
       "1          Sheraton Grand Seattle   \n",
       "2   Crowne Plaza Seattle Downtown   \n",
       "3   Kimpton Hotel Monaco Seattle    \n",
       "4              The Westin Seattle   \n",
       "\n",
       "                                           address  \\\n",
       "0  1821 Boren Avenue, Seattle Washington 98101 USA   \n",
       "1   1400 6th Avenue, Seattle, Washington 98101 USA   \n",
       "2                  1113 6th Ave, Seattle, WA 98101   \n",
       "3                   1101 4th Ave, Seattle, WA98101   \n",
       "4   1900 5th Avenue,�Seattle,�Washington�98101�USA   \n",
       "\n",
       "                                                                                                                                                                                                                                                                                                                                                                                                                                                                                                                                                                                                                                                                                                                                                                                                                                                                                                                                                                                                                                                                                                                                                                                                                     desc  \n",
       "0  Located on the southern tip of Lake Union, the Hilton Garden Inn Seattle Downtown hotel is perfectly located for business and leisure. \\nThe neighborhood is home to numerous major international companies including Amazon, Google and the Bill & Melinda Gates Foundation. A wealth of eclectic restaurants and bars make this area of Seattle one of the most sought out by locals and visitors. Our proximity to Lake Union allows visitors to take in some of the Pacific Northwest's majestic scenery and enjoy outdoor activities like kayaking and sailing. over 2,000 sq. ft. of versatile space and a complimentary business center. State-of-the-art A/V technology and our helpful staff will guarantee your conference, cocktail reception or wedding is a success. Refresh in the sparkling saltwater pool, or energize with the latest equipment in the 24-hour fitness center. Tastefully decorated and flooded with natural light, our guest rooms and suites offer everything you need to relax and stay productive. Unwind in the bar, and enjoy American cuisine for breakfast, lunch and dinner in our restaurant. The 24-hour Pavilion Pantry? stocks a variety of snacks, drinks and sundries.  \n",
       "1                                                                                                                                                          Located in the city's vibrant core, the Sheraton Grand Seattle provides a gateway to the diverse sights and sounds of the Pacific Northwest. Step out of our front doors to find gourmet dining and bars, world-class shopping, exciting entertainment, and iconic local attractions including the Pike Place Market, Space Needle and Chihuly Garden & Glass Museum. As one of only seven Sheraton hotels in North America to earn the esteemed Grand designation, guests can book confidently knowing they?re receiving the highest benchmark on product and service offerings available. Experience our recently completed multimillion-dollar transformation featuring all new guest rooms, an expanded Sheraton Club Lounge, and modern meeting & event spaces. Gather in our stylish new lobby and enjoy our private art collection featuring local artists while enjoying your favorite beverage from Starbucks. The Sheraton Grand features several dining options including Loulay Kitchen & Bar by James Beard award winning chef Thierry Rautureau.  \n",
       "2                                                                                                                                                                                                                                                                                 Located in the heart of downtown Seattle, the award-winning \\nCrowne Plaza Hotel Seattle ? Downtown offers an exceptional blend of service, style and comfort. You?ll notice Cool, Comfortable and Unconventional touches that set us apart as soon as you step inside. Marvel at stunning views of the city lights while relaxing in our new Sleep Advantage? Beds. Enjoy complimentary wireless Internet throughout the hotel and amenities to help you relax like our Temple Spa? Sleep Tight Amenity kits featuring lavender spray and lotions to help you rejuvenate and unwind. Enjoy an invigorating workout at our 24-hour fitness center, get dining suggestions from our expert concierge or savor sumptuous cuisine at our Regatta Bar & Grille restaurant where you can enjoy Happy Hour in our lounge daily from 4pm - 7pm and monthly drink specials. Come and experience all that The Emerald City has to offer with us!  \n",
       "3                                                                                                                                                                    What?s near our hotel downtown Seattle location? The better \\nquestion might be what?s not nearby. In addition to being one of the hotels near Pike Place Market, here?s just a small sampling of the rest. Columbia Center, whose Sky View Observatory on the 73rd floor is the tallest public viewing area west of the Mississippi Historic 5th Avenue Theatre, home to musical productions Seattle Central Library, an architectural marvel. Within half a mile: The must-see Pike Place Market, which houses the original Starbucks Pioneer Square, Seattle?s original downtown. Seattle Art Museum. Fantastic shopping, including the flagship Nordstrom, Nordstrom Rack, Macy?s, Columbia Sportswear, Louis Vuitton, Arcteryx, and oodles of independent boutiques. The Great Wheel. Washington State Convention Center. Within about a mile: The iconic Space Needle.  Bell Street Pier Cruise Terminal at Pier 66. Sports stadiums CenturyLink Field and Safeco Field, home to the Seattle Seahawks, Seattle Mariners, and Seattle Sounders.  \n",
       "4                                                                                                                                                            Situated amid incredible shopping and iconic attractions, The Westin Seattle is a contemporary haven in a prime location. Relax and recharge in stylish accommodations, modern comforts, signature Heavenly� amenities and gorgeous views of the Seattle skyline, Puget Sound, Lake Union and Cascade mountain range. Experience our newly renovated lobby including 1900 FIFTH, our new lobby bar offering a carefully curated wine and crafted cocktail experience. Explore a spectacular collection of celebrated attractions, including the Space Needle, CenturyLink Field, The Washington State Convention Center, Pike Place Market and the Seattle Waterfront. Host unforgettable meetings and social engagements in more than 70,000 square feet of event space, enhanced by expert planning and custom catering. Refresh in our pool or energize your mind and body in our sleek WestinWORKOUT� Fitness Studio. Designed to reflect the style and substance of the Emerald City, our hotel is a welcoming haven near the best of downtown Seattle.  "
      ]
     },
     "execution_count": 5,
     "metadata": {},
     "output_type": "execute_result"
    }
   ],
   "source": [
    "#displays first 5 rows\n",
    "df.head()"
   ]
  },
  {
   "cell_type": "markdown",
   "id": "7afe5462",
   "metadata": {},
   "source": [
    "### Prepare data"
   ]
  },
  {
   "cell_type": "code",
   "execution_count": 6,
   "id": "1d315d79-940b-4b20-bfc8-5fed2fb75274",
   "metadata": {
    "scrolled": true,
    "tags": []
   },
   "outputs": [],
   "source": [
    "# Drop column address\n",
    "df.drop('address', axis=1, inplace=True)"
   ]
  },
  {
   "cell_type": "markdown",
   "id": "db610a42-e9e5-49a1-9443-96e290ba3e6c",
   "metadata": {},
   "source": [
    "#### Clean column hotel descriptions\n",
    "1) remove punctuation\n",
    "2) lowercase text\n",
    "3) either stem or lemmatize text"
   ]
  },
  {
   "cell_type": "code",
   "execution_count": 7,
   "id": "218f1603",
   "metadata": {
    "scrolled": true,
    "tags": []
   },
   "outputs": [],
   "source": [
    "#defines a function called 'clean_text' that preprocesses text data\n",
    "from nltk.stem import WordNetLemmatizer\n",
    "from nltk.corpus import stopwords\n",
    "def clean_text(text):\n",
    "    lem = WordNetLemmatizer()\n",
    "    stop = set(stopwords.words('english'))\n",
    "    punct = string.punctuation\n",
    "    text = re.sub(r'\\s+', ' ', text)\n",
    "    text = text.translate(str.maketrans('', '', punct)).lower()\n",
    "    tokens = re.split(r'\\W+', text)\n",
    "    tokens = [lem.lemmatize(word) for word in tokens if word not in stop]\n",
    "    return ' '.join(tokens)\n",
    "\n",
    "df['desc_cleaned'] = df['desc'].apply(clean_text)\n"
   ]
  },
  {
   "cell_type": "markdown",
   "id": "80842fc8-4657-48ef-ade6-7aad846adb54",
   "metadata": {},
   "source": [
    "#### Display updated dataframe"
   ]
  },
  {
   "cell_type": "code",
   "execution_count": 8,
   "id": "bda92252",
   "metadata": {
    "scrolled": true
   },
   "outputs": [
    {
     "data": {
      "text/html": [
       "<div>\n",
       "<style scoped>\n",
       "    .dataframe tbody tr th:only-of-type {\n",
       "        vertical-align: middle;\n",
       "    }\n",
       "\n",
       "    .dataframe tbody tr th {\n",
       "        vertical-align: top;\n",
       "    }\n",
       "\n",
       "    .dataframe thead th {\n",
       "        text-align: right;\n",
       "    }\n",
       "</style>\n",
       "<table border=\"1\" class=\"dataframe\">\n",
       "  <thead>\n",
       "    <tr style=\"text-align: right;\">\n",
       "      <th></th>\n",
       "      <th>name</th>\n",
       "      <th>desc</th>\n",
       "      <th>desc_cleaned</th>\n",
       "    </tr>\n",
       "  </thead>\n",
       "  <tbody>\n",
       "    <tr>\n",
       "      <th>0</th>\n",
       "      <td>Hilton Garden Seattle Downtown</td>\n",
       "      <td>Located on the southern tip of Lake Union, the Hilton Garden Inn Seattle Downtown hotel is perfectly located for business and leisure. \\nThe neighborhood is home to numerous major international companies including Amazon, Google and the Bill &amp; Melinda Gates Foundation. A wealth of eclectic restaurants and bars make this area of Seattle one of the most sought out by locals and visitors. Our proximity to Lake Union allows visitors to take in some of the Pacific Northwest's majestic scenery and enjoy outdoor activities like kayaking and sailing. over 2,000 sq. ft. of versatile space and a complimentary business center. State-of-the-art A/V technology and our helpful staff will guarantee your conference, cocktail reception or wedding is a success. Refresh in the sparkling saltwater pool, or energize with the latest equipment in the 24-hour fitness center. Tastefully decorated and flooded with natural light, our guest rooms and suites offer everything you need to relax and stay productive. Unwind in the bar, and enjoy American cuisine for breakfast, lunch and dinner in our restaurant. The 24-hour Pavilion Pantry? stocks a variety of snacks, drinks and sundries.</td>\n",
       "      <td>located southern tip lake union hilton garden inn seattle downtown hotel perfectly located business leisure neighborhood home numerous major international company including amazon google bill melinda gate foundation wealth eclectic restaurant bar make area seattle one sought local visitor proximity lake union allows visitor take pacific northwest majestic scenery enjoy outdoor activity like kayaking sailing 2000 sq ft versatile space complimentary business center stateoftheart av technology helpful staff guarantee conference cocktail reception wedding success refresh sparkling saltwater pool energize latest equipment 24hour fitness center tastefully decorated flooded natural light guest room suite offer everything need relax stay productive unwind bar enjoy american cuisine breakfast lunch dinner restaurant 24hour pavilion pantry stock variety snack drink sundries</td>\n",
       "    </tr>\n",
       "    <tr>\n",
       "      <th>1</th>\n",
       "      <td>Sheraton Grand Seattle</td>\n",
       "      <td>Located in the city's vibrant core, the Sheraton Grand Seattle provides a gateway to the diverse sights and sounds of the Pacific Northwest. Step out of our front doors to find gourmet dining and bars, world-class shopping, exciting entertainment, and iconic local attractions including the Pike Place Market, Space Needle and Chihuly Garden &amp; Glass Museum. As one of only seven Sheraton hotels in North America to earn the esteemed Grand designation, guests can book confidently knowing they?re receiving the highest benchmark on product and service offerings available. Experience our recently completed multimillion-dollar transformation featuring all new guest rooms, an expanded Sheraton Club Lounge, and modern meeting &amp; event spaces. Gather in our stylish new lobby and enjoy our private art collection featuring local artists while enjoying your favorite beverage from Starbucks. The Sheraton Grand features several dining options including Loulay Kitchen &amp; Bar by James Beard award winning chef Thierry Rautureau.</td>\n",
       "      <td>located city vibrant core sheraton grand seattle provides gateway diverse sight sound pacific northwest step front door find gourmet dining bar worldclass shopping exciting entertainment iconic local attraction including pike place market space needle chihuly garden glass museum one seven sheraton hotel north america earn esteemed grand designation guest book confidently knowing theyre receiving highest benchmark product service offering available experience recently completed multimilliondollar transformation featuring new guest room expanded sheraton club lounge modern meeting event space gather stylish new lobby enjoy private art collection featuring local artist enjoying favorite beverage starbucks sheraton grand feature several dining option including loulay kitchen bar james beard award winning chef thierry rautureau</td>\n",
       "    </tr>\n",
       "    <tr>\n",
       "      <th>2</th>\n",
       "      <td>Crowne Plaza Seattle Downtown</td>\n",
       "      <td>Located in the heart of downtown Seattle, the award-winning \\nCrowne Plaza Hotel Seattle ? Downtown offers an exceptional blend of service, style and comfort. You?ll notice Cool, Comfortable and Unconventional touches that set us apart as soon as you step inside. Marvel at stunning views of the city lights while relaxing in our new Sleep Advantage? Beds. Enjoy complimentary wireless Internet throughout the hotel and amenities to help you relax like our Temple Spa? Sleep Tight Amenity kits featuring lavender spray and lotions to help you rejuvenate and unwind. Enjoy an invigorating workout at our 24-hour fitness center, get dining suggestions from our expert concierge or savor sumptuous cuisine at our Regatta Bar &amp; Grille restaurant where you can enjoy Happy Hour in our lounge daily from 4pm - 7pm and monthly drink specials. Come and experience all that The Emerald City has to offer with us!</td>\n",
       "      <td>located heart downtown seattle awardwinning crowne plaza hotel seattle downtown offer exceptional blend service style comfort youll notice cool comfortable unconventional touch set u apart soon step inside marvel stunning view city light relaxing new sleep advantage bed enjoy complimentary wireless internet throughout hotel amenity help relax like temple spa sleep tight amenity kit featuring lavender spray lotion help rejuvenate unwind enjoy invigorating workout 24hour fitness center get dining suggestion expert concierge savor sumptuous cuisine regatta bar grille restaurant enjoy happy hour lounge daily 4pm 7pm monthly drink special come experience emerald city offer u</td>\n",
       "    </tr>\n",
       "    <tr>\n",
       "      <th>3</th>\n",
       "      <td>Kimpton Hotel Monaco Seattle</td>\n",
       "      <td>What?s near our hotel downtown Seattle location? The better \\nquestion might be what?s not nearby. In addition to being one of the hotels near Pike Place Market, here?s just a small sampling of the rest. Columbia Center, whose Sky View Observatory on the 73rd floor is the tallest public viewing area west of the Mississippi Historic 5th Avenue Theatre, home to musical productions Seattle Central Library, an architectural marvel. Within half a mile: The must-see Pike Place Market, which houses the original Starbucks Pioneer Square, Seattle?s original downtown. Seattle Art Museum. Fantastic shopping, including the flagship Nordstrom, Nordstrom Rack, Macy?s, Columbia Sportswear, Louis Vuitton, Arcteryx, and oodles of independent boutiques. The Great Wheel. Washington State Convention Center. Within about a mile: The iconic Space Needle.  Bell Street Pier Cruise Terminal at Pier 66. Sports stadiums CenturyLink Field and Safeco Field, home to the Seattle Seahawks, Seattle Mariners, and Seattle Sounders.</td>\n",
       "      <td>whats near hotel downtown seattle location better question might whats nearby addition one hotel near pike place market here small sampling rest columbia center whose sky view observatory 73rd floor tallest public viewing area west mississippi historic 5th avenue theatre home musical production seattle central library architectural marvel within half mile mustsee pike place market house original starbucks pioneer square seattle original downtown seattle art museum fantastic shopping including flagship nordstrom nordstrom rack macys columbia sportswear louis vuitton arcteryx oodles independent boutique great wheel washington state convention center within mile iconic space needle bell street pier cruise terminal pier 66 sport stadium centurylink field safeco field home seattle seahawks seattle mariner seattle sounder</td>\n",
       "    </tr>\n",
       "    <tr>\n",
       "      <th>4</th>\n",
       "      <td>The Westin Seattle</td>\n",
       "      <td>Situated amid incredible shopping and iconic attractions, The Westin Seattle is a contemporary haven in a prime location. Relax and recharge in stylish accommodations, modern comforts, signature Heavenly� amenities and gorgeous views of the Seattle skyline, Puget Sound, Lake Union and Cascade mountain range. Experience our newly renovated lobby including 1900 FIFTH, our new lobby bar offering a carefully curated wine and crafted cocktail experience. Explore a spectacular collection of celebrated attractions, including the Space Needle, CenturyLink Field, The Washington State Convention Center, Pike Place Market and the Seattle Waterfront. Host unforgettable meetings and social engagements in more than 70,000 square feet of event space, enhanced by expert planning and custom catering. Refresh in our pool or energize your mind and body in our sleek WestinWORKOUT� Fitness Studio. Designed to reflect the style and substance of the Emerald City, our hotel is a welcoming haven near the best of downtown Seattle.</td>\n",
       "      <td>situated amid incredible shopping iconic attraction westin seattle contemporary prime location relax recharge stylish accommodation modern comfort signature heavenly amenity gorgeous view seattle skyline puget sound lake union cascade mountain range experience newly renovated lobby including 1900 fifth new lobby bar offering carefully curated wine crafted cocktail experience explore spectacular collection celebrated attraction including space needle centurylink field washington state convention center pike place market seattle waterfront host unforgettable meeting social engagement 70000 square foot event space enhanced expert planning custom catering refresh pool energize mind body sleek westinworkout fitness studio designed reflect style substance emerald city hotel welcoming near best downtown seattle</td>\n",
       "    </tr>\n",
       "  </tbody>\n",
       "</table>\n",
       "</div>"
      ],
      "text/plain": [
       "                             name  \\\n",
       "0  Hilton Garden Seattle Downtown   \n",
       "1          Sheraton Grand Seattle   \n",
       "2   Crowne Plaza Seattle Downtown   \n",
       "3   Kimpton Hotel Monaco Seattle    \n",
       "4              The Westin Seattle   \n",
       "\n",
       "                                                                                                                                                                                                                                                                                                                                                                                                                                                                                                                                                                                                                                                                                                                                                                                                                                                                                                                                                                                                                                                                                                                                                                                                                     desc  \\\n",
       "0  Located on the southern tip of Lake Union, the Hilton Garden Inn Seattle Downtown hotel is perfectly located for business and leisure. \\nThe neighborhood is home to numerous major international companies including Amazon, Google and the Bill & Melinda Gates Foundation. A wealth of eclectic restaurants and bars make this area of Seattle one of the most sought out by locals and visitors. Our proximity to Lake Union allows visitors to take in some of the Pacific Northwest's majestic scenery and enjoy outdoor activities like kayaking and sailing. over 2,000 sq. ft. of versatile space and a complimentary business center. State-of-the-art A/V technology and our helpful staff will guarantee your conference, cocktail reception or wedding is a success. Refresh in the sparkling saltwater pool, or energize with the latest equipment in the 24-hour fitness center. Tastefully decorated and flooded with natural light, our guest rooms and suites offer everything you need to relax and stay productive. Unwind in the bar, and enjoy American cuisine for breakfast, lunch and dinner in our restaurant. The 24-hour Pavilion Pantry? stocks a variety of snacks, drinks and sundries.   \n",
       "1                                                                                                                                                          Located in the city's vibrant core, the Sheraton Grand Seattle provides a gateway to the diverse sights and sounds of the Pacific Northwest. Step out of our front doors to find gourmet dining and bars, world-class shopping, exciting entertainment, and iconic local attractions including the Pike Place Market, Space Needle and Chihuly Garden & Glass Museum. As one of only seven Sheraton hotels in North America to earn the esteemed Grand designation, guests can book confidently knowing they?re receiving the highest benchmark on product and service offerings available. Experience our recently completed multimillion-dollar transformation featuring all new guest rooms, an expanded Sheraton Club Lounge, and modern meeting & event spaces. Gather in our stylish new lobby and enjoy our private art collection featuring local artists while enjoying your favorite beverage from Starbucks. The Sheraton Grand features several dining options including Loulay Kitchen & Bar by James Beard award winning chef Thierry Rautureau.   \n",
       "2                                                                                                                                                                                                                                                                                 Located in the heart of downtown Seattle, the award-winning \\nCrowne Plaza Hotel Seattle ? Downtown offers an exceptional blend of service, style and comfort. You?ll notice Cool, Comfortable and Unconventional touches that set us apart as soon as you step inside. Marvel at stunning views of the city lights while relaxing in our new Sleep Advantage? Beds. Enjoy complimentary wireless Internet throughout the hotel and amenities to help you relax like our Temple Spa? Sleep Tight Amenity kits featuring lavender spray and lotions to help you rejuvenate and unwind. Enjoy an invigorating workout at our 24-hour fitness center, get dining suggestions from our expert concierge or savor sumptuous cuisine at our Regatta Bar & Grille restaurant where you can enjoy Happy Hour in our lounge daily from 4pm - 7pm and monthly drink specials. Come and experience all that The Emerald City has to offer with us!   \n",
       "3                                                                                                                                                                    What?s near our hotel downtown Seattle location? The better \\nquestion might be what?s not nearby. In addition to being one of the hotels near Pike Place Market, here?s just a small sampling of the rest. Columbia Center, whose Sky View Observatory on the 73rd floor is the tallest public viewing area west of the Mississippi Historic 5th Avenue Theatre, home to musical productions Seattle Central Library, an architectural marvel. Within half a mile: The must-see Pike Place Market, which houses the original Starbucks Pioneer Square, Seattle?s original downtown. Seattle Art Museum. Fantastic shopping, including the flagship Nordstrom, Nordstrom Rack, Macy?s, Columbia Sportswear, Louis Vuitton, Arcteryx, and oodles of independent boutiques. The Great Wheel. Washington State Convention Center. Within about a mile: The iconic Space Needle.  Bell Street Pier Cruise Terminal at Pier 66. Sports stadiums CenturyLink Field and Safeco Field, home to the Seattle Seahawks, Seattle Mariners, and Seattle Sounders.   \n",
       "4                                                                                                                                                            Situated amid incredible shopping and iconic attractions, The Westin Seattle is a contemporary haven in a prime location. Relax and recharge in stylish accommodations, modern comforts, signature Heavenly� amenities and gorgeous views of the Seattle skyline, Puget Sound, Lake Union and Cascade mountain range. Experience our newly renovated lobby including 1900 FIFTH, our new lobby bar offering a carefully curated wine and crafted cocktail experience. Explore a spectacular collection of celebrated attractions, including the Space Needle, CenturyLink Field, The Washington State Convention Center, Pike Place Market and the Seattle Waterfront. Host unforgettable meetings and social engagements in more than 70,000 square feet of event space, enhanced by expert planning and custom catering. Refresh in our pool or energize your mind and body in our sleek WestinWORKOUT� Fitness Studio. Designed to reflect the style and substance of the Emerald City, our hotel is a welcoming haven near the best of downtown Seattle.   \n",
       "\n",
       "                                                                                                                                                                                                                                                                                                                                                                                                                                                                                                                                                                                                                                                                                                                                                                                                                                                                                                   desc_cleaned  \n",
       "0  located southern tip lake union hilton garden inn seattle downtown hotel perfectly located business leisure neighborhood home numerous major international company including amazon google bill melinda gate foundation wealth eclectic restaurant bar make area seattle one sought local visitor proximity lake union allows visitor take pacific northwest majestic scenery enjoy outdoor activity like kayaking sailing 2000 sq ft versatile space complimentary business center stateoftheart av technology helpful staff guarantee conference cocktail reception wedding success refresh sparkling saltwater pool energize latest equipment 24hour fitness center tastefully decorated flooded natural light guest room suite offer everything need relax stay productive unwind bar enjoy american cuisine breakfast lunch dinner restaurant 24hour pavilion pantry stock variety snack drink sundries  \n",
       "1                                            located city vibrant core sheraton grand seattle provides gateway diverse sight sound pacific northwest step front door find gourmet dining bar worldclass shopping exciting entertainment iconic local attraction including pike place market space needle chihuly garden glass museum one seven sheraton hotel north america earn esteemed grand designation guest book confidently knowing theyre receiving highest benchmark product service offering available experience recently completed multimilliondollar transformation featuring new guest room expanded sheraton club lounge modern meeting event space gather stylish new lobby enjoy private art collection featuring local artist enjoying favorite beverage starbucks sheraton grand feature several dining option including loulay kitchen bar james beard award winning chef thierry rautureau  \n",
       "2                                                                                                                                                                                                        located heart downtown seattle awardwinning crowne plaza hotel seattle downtown offer exceptional blend service style comfort youll notice cool comfortable unconventional touch set u apart soon step inside marvel stunning view city light relaxing new sleep advantage bed enjoy complimentary wireless internet throughout hotel amenity help relax like temple spa sleep tight amenity kit featuring lavender spray lotion help rejuvenate unwind enjoy invigorating workout 24hour fitness center get dining suggestion expert concierge savor sumptuous cuisine regatta bar grille restaurant enjoy happy hour lounge daily 4pm 7pm monthly drink special come experience emerald city offer u  \n",
       "3                                                   whats near hotel downtown seattle location better question might whats nearby addition one hotel near pike place market here small sampling rest columbia center whose sky view observatory 73rd floor tallest public viewing area west mississippi historic 5th avenue theatre home musical production seattle central library architectural marvel within half mile mustsee pike place market house original starbucks pioneer square seattle original downtown seattle art museum fantastic shopping including flagship nordstrom nordstrom rack macys columbia sportswear louis vuitton arcteryx oodles independent boutique great wheel washington state convention center within mile iconic space needle bell street pier cruise terminal pier 66 sport stadium centurylink field safeco field home seattle seahawks seattle mariner seattle sounder  \n",
       "4                                                               situated amid incredible shopping iconic attraction westin seattle contemporary prime location relax recharge stylish accommodation modern comfort signature heavenly amenity gorgeous view seattle skyline puget sound lake union cascade mountain range experience newly renovated lobby including 1900 fifth new lobby bar offering carefully curated wine crafted cocktail experience explore spectacular collection celebrated attraction including space needle centurylink field washington state convention center pike place market seattle waterfront host unforgettable meeting social engagement 70000 square foot event space enhanced expert planning custom catering refresh pool energize mind body sleek westinworkout fitness studio designed reflect style substance emerald city hotel welcoming near best downtown seattle  "
      ]
     },
     "execution_count": 8,
     "metadata": {},
     "output_type": "execute_result"
    }
   ],
   "source": [
    "df.head()"
   ]
  },
  {
   "cell_type": "markdown",
   "id": "6209df9d",
   "metadata": {},
   "source": [
    "### Vectorize cleaned hotel descriptions"
   ]
  },
  {
   "cell_type": "code",
   "execution_count": 9,
   "id": "c5955795",
   "metadata": {},
   "outputs": [
    {
     "data": {
      "text/plain": [
       "(152, 27459)"
      ]
     },
     "execution_count": 9,
     "metadata": {},
     "output_type": "execute_result"
    }
   ],
   "source": [
    "tfidf = TfidfVectorizer(ngram_range=(1, 3))\n",
    "tfidf_matrix = tfidf.fit_transform(df['desc_cleaned'])\n",
    "tfidf_matrix.shape"
   ]
  },
  {
   "cell_type": "code",
   "execution_count": 10,
   "id": "1530be6f",
   "metadata": {},
   "outputs": [
    {
     "name": "stdout",
     "output_type": "stream",
     "text": [
      "  (0, 22463)\t0.06071661794144815\n",
      "  (0, 25757)\t0.06071661794144815\n",
      "  (0, 23541)\t0.06071661794144815\n",
      "  (0, 17742)\t0.06071661794144815\n",
      "  (0, 17945)\t0.06071661794144815\n",
      "  (0, 354)\t0.06071661794144815\n",
      "  (0, 19871)\t0.06071661794144815\n",
      "  (0, 6794)\t0.06071661794144815\n",
      "  (0, 14595)\t0.06071661794144815\n",
      "  (0, 3564)\t0.052831427761104735\n",
      "  (0, 6195)\t0.06071661794144815\n",
      "  (0, 1586)\t0.06071661794144815\n",
      "  (0, 7723)\t0.06071661794144815\n",
      "  (0, 2657)\t0.06071661794144815\n",
      "  (0, 25535)\t0.06071661794144815\n",
      "  (0, 18831)\t0.06071661794144815\n",
      "  (0, 23393)\t0.06071661794144815\n",
      "  (0, 19615)\t0.06071661794144815\n",
      "  (0, 16355)\t0.06071661794144815\n",
      "  (0, 8265)\t0.06071661794144815\n",
      "  (0, 16984)\t0.06071661794144815\n",
      "  (0, 23927)\t0.06071661794144815\n",
      "  (0, 20482)\t0.05610407737489257\n",
      "  (0, 10825)\t0.046465280657644194\n",
      "  (0, 13792)\t0.06071661794144815\n",
      "  :\t:\n",
      "  (0, 15359)\t0.050292963508522255\n",
      "  (0, 3241)\t0.050292963508522255\n",
      "  (0, 10453)\t0.046465280657644194\n",
      "  (0, 1432)\t0.03572115644765015\n",
      "  (0, 12483)\t0.027835966267306732\n",
      "  (0, 5457)\t0.042407773328178834\n",
      "  (0, 12897)\t0.031108615881094558\n",
      "  (0, 14703)\t0.03942313719335268\n",
      "  (0, 16895)\t0.06071661794144815\n",
      "  (0, 11464)\t0.027524277598177223\n",
      "  (0, 16475)\t0.03069490029695737\n",
      "  (0, 13687)\t0.03706104740041791\n",
      "  (0, 3835)\t0.04687213199936329\n",
      "  (0, 18071)\t0.046465280657644194\n",
      "  (0, 11705)\t0.01492451993627054\n",
      "  (0, 7089)\t0.01833340979843273\n",
      "  (0, 20883)\t0.024935207761417513\n",
      "  (0, 12655)\t0.027220901625632177\n",
      "  (0, 10187)\t0.042407773328178834\n",
      "  (0, 11346)\t0.04132353189294323\n",
      "  (0, 25349)\t0.07412209480083581\n",
      "  (0, 13410)\t0.06904516629567084\n",
      "  (0, 24646)\t0.05610407737489257\n",
      "  (0, 22674)\t0.06071661794144815\n",
      "  (0, 14165)\t0.03585897676345521\n"
     ]
    }
   ],
   "source": [
    "type(tfidf_matrix)\n",
    "print(tfidf_matrix.getrow(0))"
   ]
  },
  {
   "cell_type": "markdown",
   "id": "8478bff0",
   "metadata": {},
   "source": [
    "### Generate similarities matrix on cleaned hotel descriptions"
   ]
  },
  {
   "cell_type": "code",
   "execution_count": 11,
   "id": "1ac7a5e3",
   "metadata": {},
   "outputs": [],
   "source": [
    "similarity_matrix = cosine_similarity(tfidf_matrix, tfidf_matrix)"
   ]
  },
  {
   "cell_type": "markdown",
   "id": "181ed2b7",
   "metadata": {},
   "source": [
    "### Create hotel recommender"
   ]
  },
  {
   "cell_type": "code",
   "execution_count": 12,
   "id": "c8ef3665",
   "metadata": {},
   "outputs": [],
   "source": [
    "def recommend_hotels(hotel_name, similarity_matrix, hotel_names):\n",
    "    \n",
    "    hotel_index = hotel_names[hotel_names == hotel_name].index[0]\n",
    "    similarity_scores = similarity_matrix[hotel_index]\n",
    "    similar_hotel_indices = similarity_scores.argsort()[:-4:-1]\n",
    "    recommended_hotels = hotel_names.iloc[similar_hotel_indices].tolist()\n",
    "    \n",
    "    return recommended_hotels\n"
   ]
  },
  {
   "cell_type": "markdown",
   "id": "8a886324",
   "metadata": {},
   "source": [
    "### Make hotel recommendations for the following hotel names:\n",
    "* Motel 6 Seattle Sea-Tac Airport South\n",
    "* The Bacon Mansion Bed and Breakfast\n",
    "* Holiday Inn Seattle Downtown"
   ]
  },
  {
   "cell_type": "code",
   "execution_count": 13,
   "id": "168830e3",
   "metadata": {},
   "outputs": [
    {
     "data": {
      "text/plain": [
       "['Motel 6 Seattle Sea-Tac Airport South',\n",
       " 'Emerald Motel',\n",
       " 'Ramada by Wyndham SeaTac Airport']"
      ]
     },
     "execution_count": 13,
     "metadata": {},
     "output_type": "execute_result"
    }
   ],
   "source": [
    "recommend_hotels(\"Motel 6 Seattle Sea-Tac Airport South\", similarity_matrix, df['name'])"
   ]
  },
  {
   "cell_type": "code",
   "execution_count": 14,
   "id": "2aa3cd8d",
   "metadata": {},
   "outputs": [
    {
     "data": {
      "text/plain": [
       "['The Bacon Mansion Bed and Breakfast',\n",
       " '11th Avenue Inn Bed and Breakfast',\n",
       " 'Shafer Baillie Mansion Bed & Breakfast']"
      ]
     },
     "execution_count": 14,
     "metadata": {},
     "output_type": "execute_result"
    }
   ],
   "source": [
    "recommend_hotels(\"The Bacon Mansion Bed and Breakfast\", similarity_matrix, df['name'])"
   ]
  },
  {
   "cell_type": "code",
   "execution_count": 15,
   "id": "8179a628",
   "metadata": {},
   "outputs": [
    {
     "data": {
      "text/plain": [
       "['Holiday Inn Seattle Downtown',\n",
       " 'Holiday Inn Express & Suites Seattle-City Center',\n",
       " 'Inn at Queen Anne']"
      ]
     },
     "execution_count": 15,
     "metadata": {},
     "output_type": "execute_result"
    }
   ],
   "source": [
    "recommend_hotels(\"Holiday Inn Seattle Downtown\", similarity_matrix, df['name'])"
   ]
  }
 ],
 "metadata": {
  "kernelspec": {
   "display_name": "Python 3 (ipykernel)",
   "language": "python",
   "name": "python3"
  },
  "language_info": {
   "codemirror_mode": {
    "name": "ipython",
    "version": 3
   },
   "file_extension": ".py",
   "mimetype": "text/x-python",
   "name": "python",
   "nbconvert_exporter": "python",
   "pygments_lexer": "ipython3",
   "version": "3.11.5"
  }
 },
 "nbformat": 4,
 "nbformat_minor": 5
}
